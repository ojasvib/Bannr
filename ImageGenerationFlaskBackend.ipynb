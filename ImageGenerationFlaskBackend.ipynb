{
  "nbformat": 4,
  "nbformat_minor": 0,
  "metadata": {
    "colab": {
      "provenance": []
    },
    "kernelspec": {
      "name": "python3",
      "display_name": "Python 3"
    },
    "language_info": {
      "name": "python"
    }
  },
  "cells": [
    {
      "cell_type": "code",
      "execution_count": null,
      "metadata": {
        "id": "4duEtyn2yDQ4"
      },
      "outputs": [],
      "source": [
        "! pip install --quiet --upgrade --user google-cloud-aiplatform"
      ]
    },
    {
      "cell_type": "code",
      "source": [
        "import IPython\n",
        "\n",
        "app = IPython.Application.instance()\n",
        "app.kernel.do_shutdown(True)"
      ],
      "metadata": {
        "id": "rhA53JoTyPFf"
      },
      "execution_count": null,
      "outputs": []
    },
    {
      "cell_type": "code",
      "source": [
        "import sys\n",
        "\n",
        "# Additional authentication is required for Google Colab\n",
        "if \"google.colab\" in sys.modules:\n",
        "    # Authenticate user to Google Cloud\n",
        "    from google.colab import auth\n",
        "\n",
        "    auth.authenticate_user()"
      ],
      "metadata": {
        "id": "QVQv2whZyeI5"
      },
      "execution_count": null,
      "outputs": []
    },
    {
      "cell_type": "code",
      "source": [
        "# Define project information\n",
        "PROJECT_ID = \"your_google_cloud_project_id\"  # @param {type:\"string\"}\n",
        "LOCATION = \"us-central1\"  # @param {type:\"string\"}\n",
        "\n",
        "# Initialize Vertex AI\n",
        "import vertexai\n",
        "\n",
        "vertexai.init(project=PROJECT_ID, location=LOCATION)"
      ],
      "metadata": {
        "id": "36ogfp4NyjDY"
      },
      "execution_count": 1,
      "outputs": []
    },
    {
      "cell_type": "code",
      "source": [
        "from vertexai.preview.vision_models import ImageGenerationModel\n",
        "\n",
        "generation_model = ImageGenerationModel.from_pretrained(\"imagegeneration@006\")"
      ],
      "metadata": {
        "id": "1CFTfIiHym1Q"
      },
      "execution_count": null,
      "outputs": []
    },
    {
      "cell_type": "code",
      "source": [
        "!pip install flask-ngrok google-cloud-aiplatform google-cloud-storage\n",
        "!pip install Flask\n",
        "!pip install pyngrok"
      ],
      "metadata": {
        "id": "_a7r9nHry3mn"
      },
      "execution_count": null,
      "outputs": []
    },
    {
      "cell_type": "code",
      "source": [
        "from pyngrok import ngrok\n",
        "ngrok.set_auth_token(\"NGROK_API_KEY_HERE\")\n",
        "\n",
        "# Start Ngrok\n",
        "public_url = ngrok.connect(5000)\n",
        "print(\" * Ngrok tunnel \\\"{}\\\" -> \\\"http://127.0.0.1:5000\\\"\".format(public_url))"
      ],
      "metadata": {
        "id": "n89f3TFdzEPe"
      },
      "execution_count": null,
      "outputs": []
    },
    {
      "cell_type": "code",
      "source": [
        "import datetime\n",
        "import io\n",
        "from flask import Flask, request, jsonify\n",
        "from google.cloud import storage\n",
        "\n",
        "client = storage.Client()\n",
        "bucket = client.get_bucket('banner-generation-bigbasket')\n",
        "\n",
        "\n",
        "app = Flask(__name__)\n",
        "\n",
        "@app.route('/', methods=['POST'])\n",
        "def generate_image():\n",
        "    data = request.get_json()\n",
        "    prompt = data.get('prompt', '')\n",
        "\n",
        "    # Generate image using the prompt\n",
        "    response = generation_model.generate_images(prompt=prompt)\n",
        "    # response.images[0].show()\n",
        "    # Save image to Google Cloud Storage\n",
        "    image_blob = response.images[0]._pil_image\n",
        "    img_byte_arr = io.BytesIO()\n",
        "    image_blob.save(img_byte_arr, format='PNG')\n",
        "    img_byte_arr.seek(0)\n",
        "    timestamp = datetime.datetime.now().strftime(\"%Y%m%d_%H%M%S\")\n",
        "    # Upload to Google Cloud Storage\n",
        "    blob = bucket.blob(f'banners/generated_banner_{timestamp}.png') #change to where you want the files to be stored in the bucket\n",
        "    try:\n",
        "        blob.upload_from_file(img_byte_arr, content_type='image/png')\n",
        "    except Exception as e:\n",
        "        print(\"Error uploading to bucket:\", e)\n",
        "        return jsonify({'error': str(e)}), 500\n",
        "    # Get public URL for the uploaded image\n",
        "    public_url = f\"https://storage.googleapis.com/google_cloud_bucket/banners/generated_banner_{timestamp}.png\"  #change according to your bucket name\n",
        "\n",
        "    return jsonify({'image_url': public_url})\n",
        "\n",
        "if __name__ == '__main__':\n",
        "    app.run(port=5000)  # Specify the port to run on\n",
        "!flask run --host=0.0.0.0 --port=5000"
      ],
      "metadata": {
        "id": "_T40gaDcztin"
      },
      "execution_count": null,
      "outputs": []
    },
    {
      "cell_type": "code",
      "source": [
        "#run in a separate notebook to verify server running\n",
        "import requests\n",
        "\n",
        "# Replace with your Ngrok URL\n",
        "ngrok_url = 'Ngrok URL'  # e.g., http://abc123.ngrok.io\n",
        "\n",
        "# Send a POST request to the Flask backend\n",
        "data = {'prompt': 'A beautiful sunset over the mountains.'}\n",
        "response = requests.post(ngrok_url, json=data)\n",
        "\n",
        "# Print the response\n",
        "print(response.text)"
      ],
      "metadata": {
        "id": "f8W4jfbm0S4v"
      },
      "execution_count": null,
      "outputs": []
    }
  ]
}